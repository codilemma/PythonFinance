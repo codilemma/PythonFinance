{
 "metadata": {
  "language_info": {
   "codemirror_mode": {
    "name": "ipython",
    "version": 3
   },
   "file_extension": ".py",
   "mimetype": "text/x-python",
   "name": "python",
   "nbconvert_exporter": "python",
   "pygments_lexer": "ipython3",
   "version": "3.7.6-final"
  },
  "orig_nbformat": 2,
  "kernelspec": {
   "name": "python_defaultSpec_1600743353889",
   "display_name": "Python 3.7.6 64-bit ('base': conda)"
  }
 },
 "nbformat": 4,
 "nbformat_minor": 2,
 "cells": [
  {
   "cell_type": "code",
   "execution_count": 5,
   "metadata": {},
   "outputs": [
    {
     "output_type": "execute_result",
     "data": {
      "text/plain": "{'CAD': 1.330932, 'USD': 1}"
     },
     "metadata": {},
     "execution_count": 5
    }
   ],
   "source": [
    "# Currency exchange using openexchangerates.org\n",
    "\n",
    "import os\n",
    "import requests\n",
    "from dotenv import load_dotenv, find_dotenv\n",
    "load_dotenv(find_dotenv())\n",
    "\n",
    "API_KEY = os.environ.get('OPX_KEY')\n",
    "\n",
    "r = requests.get(\n",
    "    'https://openexchangerates.org/api/latest.json',\n",
    "    params = {\n",
    "        'app_id': API_KEY,\n",
    "        'symbols': 'CAD,USD',\n",
    "        'show_alternative': 'true'\n",
    "    }\n",
    ")\n",
    "\n",
    "rates_ = r.json()['rates']\n",
    "rates_\n"
   ]
  },
  {
   "cell_type": "code",
   "execution_count": 6,
   "metadata": {},
   "outputs": [
    {
     "output_type": "execute_result",
     "data": {
      "text/plain": "2254.059561269847"
     },
     "metadata": {},
     "execution_count": 6
    }
   ],
   "source": [
    "\n",
    "# Calculate CAD to USD\n",
    "symbol_from = 'CAD'\n",
    "symbol_to = 'USD'\n",
    "value = 3000\n",
    "\n",
    "value * 1/rates_.get(symbol_from)*rates_.get(symbol_to)"
   ]
  },
  {
   "cell_type": "code",
   "execution_count": 16,
   "metadata": {},
   "outputs": [],
   "source": [
    "# Encapsulate the code into a Class\n",
    "\n",
    "class CurrencyConverter:\n",
    "    def __init__(self, symbols, API_KEY):\n",
    "        self.API_KEY = API_KEY\n",
    "        self.symbols = symbols\n",
    "        self._symbols = ','.join([str(s) for s in symbols])\n",
    "        r = requests.get(\n",
    "            'https://openexchangerates.org/api/latest.json',\n",
    "            params = {\n",
    "                'app_id': self.API_KEY,\n",
    "                'symbols': self._symbols,\n",
    "                'show_alternative': 'true'\n",
    "                }\n",
    "            )\n",
    "        self.rates_ = r.json()['rates']\n",
    "        self.rates_['USD'] = 1\n",
    "    def convert(self, value, symbol_from, symbol_to, round_output=True):\n",
    "        try:\n",
    "            x = (value\n",
    "                * 1/self.rates_.get(symbol_from)\n",
    "                * self.rates_.get(symbol_to))\n",
    "            if round_output:\n",
    "                return round(x, 2)\n",
    "            else:\n",
    "                return x\n",
    "        except TypeError:\n",
    "            print('Unavailable or invalid symbol')\n",
    "            return None\n"
   ]
  },
  {
   "cell_type": "code",
   "execution_count": 17,
   "metadata": {
    "tags": []
   },
   "outputs": [
    {
     "output_type": "stream",
     "name": "stdout",
     "text": "2254.68\n6652.84\n"
    }
   ],
   "source": [
    "# Use the currency converter class\n",
    "API_KEY = os.environ.get(\"OPX_KEY\")\n",
    "c = CurrencyConverter(['CAD','USD'], API_KEY)\n",
    "\n",
    "print(c.convert(3000, 'CAD', 'USD'))\n",
    "print(c.convert(5000, 'USD', 'CAD'))"
   ]
  },
  {
   "cell_type": "code",
   "execution_count": 18,
   "metadata": {},
   "outputs": [
    {
     "output_type": "execute_result",
     "data": {
      "text/plain": "{'BTC': 9.578106e-05,\n 'CAD': 1.330567,\n 'DOGE': 382.947504,\n 'ETH': 0.002920646,\n 'USD': 1}"
     },
     "metadata": {},
     "execution_count": 18
    }
   ],
   "source": [
    "# Show alternative currency rates\n",
    "c = CurrencyConverter(['CAD', 'USD', 'DOGE', 'ETH', 'BTC'], API_KEY)\n",
    "c.rates_"
   ]
  },
  {
   "cell_type": "code",
   "execution_count": 20,
   "metadata": {},
   "outputs": [
    {
     "output_type": "execute_result",
     "data": {
      "text/plain": "         date  income  expenses  total\n0  2017-01-01      40     -3000  -2960\n1  2017-01-25      40       -50    -10\n2  2017-02-12      80       -50     30\n3  2017-02-14     100       -30     70\n4  2017-03-04     100       -20     80\n5  2017-04-23     160       -30    130\n6  2017-05-07     140       -20    120\n7  2017-05-21     140       -40    100\n8  2017-06-04      80       -40     40\n9  2017-06-19     180       -30    150\n10 2017-07-16     360       -40    320\n11 2017-08-27     160       -30    130\n12 2017-09-24     240       -20    220\n13 2017-10-21     420       -50    370\n14 2017-11-19     400       -20    380\n15 2017-12-03     340       -40    300\n16 2017-12-17     360       -40    320\n17 2017-12-31     540       -40    500",
      "text/html": "<div>\n<style scoped>\n    .dataframe tbody tr th:only-of-type {\n        vertical-align: middle;\n    }\n\n    .dataframe tbody tr th {\n        vertical-align: top;\n    }\n\n    .dataframe thead th {\n        text-align: right;\n    }\n</style>\n<table border=\"1\" class=\"dataframe\">\n  <thead>\n    <tr style=\"text-align: right;\">\n      <th></th>\n      <th>date</th>\n      <th>income</th>\n      <th>expenses</th>\n      <th>total</th>\n    </tr>\n  </thead>\n  <tbody>\n    <tr>\n      <th>0</th>\n      <td>2017-01-01</td>\n      <td>40</td>\n      <td>-3000</td>\n      <td>-2960</td>\n    </tr>\n    <tr>\n      <th>1</th>\n      <td>2017-01-25</td>\n      <td>40</td>\n      <td>-50</td>\n      <td>-10</td>\n    </tr>\n    <tr>\n      <th>2</th>\n      <td>2017-02-12</td>\n      <td>80</td>\n      <td>-50</td>\n      <td>30</td>\n    </tr>\n    <tr>\n      <th>3</th>\n      <td>2017-02-14</td>\n      <td>100</td>\n      <td>-30</td>\n      <td>70</td>\n    </tr>\n    <tr>\n      <th>4</th>\n      <td>2017-03-04</td>\n      <td>100</td>\n      <td>-20</td>\n      <td>80</td>\n    </tr>\n    <tr>\n      <th>5</th>\n      <td>2017-04-23</td>\n      <td>160</td>\n      <td>-30</td>\n      <td>130</td>\n    </tr>\n    <tr>\n      <th>6</th>\n      <td>2017-05-07</td>\n      <td>140</td>\n      <td>-20</td>\n      <td>120</td>\n    </tr>\n    <tr>\n      <th>7</th>\n      <td>2017-05-21</td>\n      <td>140</td>\n      <td>-40</td>\n      <td>100</td>\n    </tr>\n    <tr>\n      <th>8</th>\n      <td>2017-06-04</td>\n      <td>80</td>\n      <td>-40</td>\n      <td>40</td>\n    </tr>\n    <tr>\n      <th>9</th>\n      <td>2017-06-19</td>\n      <td>180</td>\n      <td>-30</td>\n      <td>150</td>\n    </tr>\n    <tr>\n      <th>10</th>\n      <td>2017-07-16</td>\n      <td>360</td>\n      <td>-40</td>\n      <td>320</td>\n    </tr>\n    <tr>\n      <th>11</th>\n      <td>2017-08-27</td>\n      <td>160</td>\n      <td>-30</td>\n      <td>130</td>\n    </tr>\n    <tr>\n      <th>12</th>\n      <td>2017-09-24</td>\n      <td>240</td>\n      <td>-20</td>\n      <td>220</td>\n    </tr>\n    <tr>\n      <th>13</th>\n      <td>2017-10-21</td>\n      <td>420</td>\n      <td>-50</td>\n      <td>370</td>\n    </tr>\n    <tr>\n      <th>14</th>\n      <td>2017-11-19</td>\n      <td>400</td>\n      <td>-20</td>\n      <td>380</td>\n    </tr>\n    <tr>\n      <th>15</th>\n      <td>2017-12-03</td>\n      <td>340</td>\n      <td>-40</td>\n      <td>300</td>\n    </tr>\n    <tr>\n      <th>16</th>\n      <td>2017-12-17</td>\n      <td>360</td>\n      <td>-40</td>\n      <td>320</td>\n    </tr>\n    <tr>\n      <th>17</th>\n      <td>2017-12-31</td>\n      <td>540</td>\n      <td>-40</td>\n      <td>500</td>\n    </tr>\n  </tbody>\n</table>\n</div>"
     },
     "metadata": {},
     "execution_count": 20
    }
   ],
   "source": [
    "# Apply currency class to income schedule\n",
    "import pandas as pd\n",
    "\n",
    "df = pd.read_excel('../data/xirr.xlsx', sheet_name=\"irregular\")\n",
    "df['total'] = df.income + df.expenses\n",
    "df"
   ]
  },
  {
   "cell_type": "code",
   "execution_count": 21,
   "metadata": {},
   "outputs": [
    {
     "output_type": "execute_result",
     "data": {
      "text/plain": "0    -2224.62\n1       -7.52\n2       22.55\n3       52.61\n4       60.12\n5       97.70\n6       90.19\n7       75.16\n8       30.06\n9      112.73\n10     240.50\n11      97.70\n12     165.34\n13     278.08\n14     285.59\n15     225.47\n16     240.50\n17     375.78\nName: total, dtype: float64"
     },
     "metadata": {},
     "execution_count": 21
    }
   ],
   "source": [
    "#Convert everything at once\n",
    "df['total'].apply(lambda x: c.convert(x, 'CAD', 'USD'))"
   ]
  },
  {
   "cell_type": "code",
   "execution_count": null,
   "metadata": {},
   "outputs": [],
   "source": []
  }
 ]
}