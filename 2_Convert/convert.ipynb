{
 "metadata": {
  "language_info": {
   "codemirror_mode": {
    "name": "ipython",
    "version": 3
   },
   "file_extension": ".py",
   "mimetype": "text/x-python",
   "name": "python",
   "nbconvert_exporter": "python",
   "pygments_lexer": "ipython3",
   "version": "3.7.6-final"
  },
  "orig_nbformat": 2,
  "kernelspec": {
   "name": "python_defaultSpec_1600743353889",
   "display_name": "Python 3.7.6 64-bit ('base': conda)"
  }
 },
 "nbformat": 4,
 "nbformat_minor": 2,
 "cells": [
  {
   "cell_type": "code",
   "execution_count": 5,
   "metadata": {},
   "outputs": [
    {
     "output_type": "execute_result",
     "data": {
      "text/plain": "{'CAD': 1.330932, 'USD': 1}"
     },
     "metadata": {},
     "execution_count": 5
    }
   ],
   "source": [
    "# Currency exchange using openexchangerates.org\n",
    "\n",
    "import os\n",
    "import requests\n",
    "from dotenv import load_dotenv, find_dotenv\n",
    "load_dotenv(find_dotenv())\n",
    "\n",
    "API_KEY = os.environ.get('OPX_KEY')\n",
    "\n",
    "r = requests.get(\n",
    "    'https://openexchangerates.org/api/latest.json',\n",
    "    params = {\n",
    "        'app_id': API_KEY,\n",
    "        'symbols': 'CAD,USD',\n",
    "        'show_alternative': 'true'\n",
    "    }\n",
    ")\n",
    "\n",
    "rates_ = r.json()['rates']\n",
    "rates_\n"
   ]
  },
  {
   "cell_type": "code",
   "execution_count": 6,
   "metadata": {},
   "outputs": [
    {
     "output_type": "execute_result",
     "data": {
      "text/plain": "2254.059561269847"
     },
     "metadata": {},
     "execution_count": 6
    }
   ],
   "source": [
    "\n",
    "# Calculate CAD to USD\n",
    "symbol_from = 'CAD'\n",
    "symbol_to = 'USD'\n",
    "value = 3000\n",
    "\n",
    "value * 1/rates_.get(symbol_from)*rates_.get(symbol_to)"
   ]
  },
  {
   "cell_type": "code",
   "execution_count": 16,
   "metadata": {},
   "outputs": [],
   "source": [
    "# Encapsulate the code into a Class\n",
    "\n",
    "class CurrencyConverter:\n",
    "    def __init__(self, symbols, API_KEY):\n",
    "        self.API_KEY = API_KEY\n",
    "        self.symbols = symbols\n",
    "        self._symbols = ','.join([str(s) for s in symbols])\n",
    "        r = requests.get(\n",
    "            'https://openexchangerates.org/api/latest.json',\n",
    "            params = {\n",
    "                'app_id': self.API_KEY,\n",
    "                'symbols': self._symbols,\n",
    "                'show_alternative': 'true'\n",
    "                }\n",
    "            )\n",
    "        self.rates_ = r.json()['rates']\n",
    "        self.rates_['USD'] = 1\n",
    "    def convert(self, value, symbol_from, symbol_to, round_output=True):\n",
    "        try:\n",
    "            x = (value\n",
    "                * 1/self.rates_.get(symbol_from)\n",
    "                * self.rates_.get(symbol_to))\n",
    "            if round_output:\n",
    "                return round(x, 2)\n",
    "            else:\n",
    "                return x\n",
    "        except TypeError:\n",
    "            print('Unavailable or invalid symbol')\n",
    "            return None\n"
   ]
  },
  {
   "cell_type": "code",
   "execution_count": null,
   "metadata": {},
   "outputs": [],
   "source": [
    "# Use the currency converter class\n",
    "API_KEY = os.environ.get(\"OPX_KEY\")\n",
    "c = CurrencyConverter(['CAD','USD'], API_KEY)\n",
    "\n",
    "print(c.convert(3000, 'CAD', 'USD'))\n",
    "print(c.convert(5000, 'USD', 'CAD'))"
   ]
  }
 ]
}