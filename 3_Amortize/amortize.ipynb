{
 "metadata": {
  "language_info": {
   "codemirror_mode": {
    "name": "ipython",
    "version": 3
   },
   "file_extension": ".py",
   "mimetype": "text/x-python",
   "name": "python",
   "nbconvert_exporter": "python",
   "pygments_lexer": "ipython3",
   "version": "3.7.6-final"
  },
  "orig_nbformat": 2,
  "kernelspec": {
   "name": "python_defaultSpec_1600787261792",
   "display_name": "Python 3.7.6 64-bit ('base': conda)"
  }
 },
 "nbformat": 4,
 "nbformat_minor": 2,
 "cells": [
  {
   "cell_type": "code",
   "execution_count": 1,
   "metadata": {
    "tags": []
   },
   "outputs": [
    {
     "output_type": "stream",
     "name": "stdout",
     "text": "222.07\n"
    }
   ],
   "source": [
    "# Amortization\n",
    "# Schedule that details each periodic payment on an amortizing \n",
    "# loan (i.e. personal loan)\n",
    "# \n",
    "# P = (r(PV))/(1-(1+r)-n)\n",
    "# Where:\n",
    "# P = Payment\n",
    "# PV = Present value (the loan)\n",
    "# r = rate per period\n",
    "# n = number of periods\n",
    "\n",
    "loan = 3000.00\n",
    "rate = 0.0575\n",
    "term = 14\n",
    "\n",
    "payment = loan*(rate/12)/(1-(1+(rate/12))**(-term))\n",
    "print(round(payment, 2))"
   ]
  },
  {
   "cell_type": "code",
   "execution_count": 3,
   "metadata": {
    "tags": []
   },
   "outputs": [
    {
     "output_type": "stream",
     "name": "stdout",
     "text": "222.07\n"
    }
   ],
   "source": [
    "# Using numpy's built in payment function\n",
    "import numpy as np\n",
    "payment = np.round(-np.pmt(rate/12, term, loan), 2)\n",
    "print(payment)"
   ]
  },
  {
   "cell_type": "code",
   "execution_count": 4,
   "metadata": {
    "tags": []
   },
   "outputs": [
    {
     "output_type": "stream",
     "name": "stdout",
     "text": "month  payment  interest  principal  balance\n0      0      NaN       NaN        NaN   3000.0\n"
    }
   ],
   "source": [
    "# Now let's build an amortization schedule using pandas\n",
    "import pandas as pd\n",
    "balance = loan\n",
    "# Instantiate the dataframe\n",
    "df = pd.DataFrame({\n",
    "    'month':     [0],\n",
    "    'payment':   [np.NaN],\n",
    "    'interest':  [np.NaN],\n",
    "    'principal': [np.NaN],\n",
    "    'balance':   [balance]\n",
    "})\n",
    "print(df)"
   ]
  },
  {
   "cell_type": "code",
   "execution_count": 5,
   "metadata": {
    "tags": []
   },
   "outputs": [
    {
     "output_type": "stream",
     "name": "stdout",
     "text": "14.38\n207.69\n2792.31\n"
    }
   ],
   "source": [
    "# Calculate interest and principal for first payment\n",
    "interest = round(rate/12*balance, 2)\n",
    "principal = payment - interest\n",
    "balance = balance - principal\n",
    "\n",
    "print(interest)\n",
    "print(principal)\n",
    "print(balance)"
   ]
  },
  {
   "cell_type": "code",
   "execution_count": 15,
   "metadata": {},
   "outputs": [
    {
     "output_type": "execute_result",
     "data": {
      "text/plain": "    month  payment  interest  principal  balance\n0       0      NaN       NaN        NaN  3000.00\n1       1   222.07     14.38     207.69  2792.31\n2       2   222.07     13.38     208.69  2583.62\n3       3   222.07     12.38     209.69  2373.93\n4       4   222.07     11.38     210.69  2163.24\n5       5   222.07     10.37     211.70  1951.54\n6       6   222.07      9.35     212.72  1738.82\n7       7   222.07      8.33     213.74  1525.08\n8       8   222.07      7.31     214.76  1310.32\n9       9   222.07      6.28     215.79  1094.53\n10     10   222.07      5.24     216.83   877.70\n11     11   222.07      4.21     217.86   659.84\n12     12   222.07      3.16     218.91   440.93\n13     13   222.07      2.11     219.96   220.97\n14     14   222.07      1.06     221.01    -0.04",
      "text/html": "<div>\n<style scoped>\n    .dataframe tbody tr th:only-of-type {\n        vertical-align: middle;\n    }\n\n    .dataframe tbody tr th {\n        vertical-align: top;\n    }\n\n    .dataframe thead th {\n        text-align: right;\n    }\n</style>\n<table border=\"1\" class=\"dataframe\">\n  <thead>\n    <tr style=\"text-align: right;\">\n      <th></th>\n      <th>month</th>\n      <th>payment</th>\n      <th>interest</th>\n      <th>principal</th>\n      <th>balance</th>\n    </tr>\n  </thead>\n  <tbody>\n    <tr>\n      <th>0</th>\n      <td>0</td>\n      <td>NaN</td>\n      <td>NaN</td>\n      <td>NaN</td>\n      <td>3000.00</td>\n    </tr>\n    <tr>\n      <th>1</th>\n      <td>1</td>\n      <td>222.07</td>\n      <td>14.38</td>\n      <td>207.69</td>\n      <td>2792.31</td>\n    </tr>\n    <tr>\n      <th>2</th>\n      <td>2</td>\n      <td>222.07</td>\n      <td>13.38</td>\n      <td>208.69</td>\n      <td>2583.62</td>\n    </tr>\n    <tr>\n      <th>3</th>\n      <td>3</td>\n      <td>222.07</td>\n      <td>12.38</td>\n      <td>209.69</td>\n      <td>2373.93</td>\n    </tr>\n    <tr>\n      <th>4</th>\n      <td>4</td>\n      <td>222.07</td>\n      <td>11.38</td>\n      <td>210.69</td>\n      <td>2163.24</td>\n    </tr>\n    <tr>\n      <th>5</th>\n      <td>5</td>\n      <td>222.07</td>\n      <td>10.37</td>\n      <td>211.70</td>\n      <td>1951.54</td>\n    </tr>\n    <tr>\n      <th>6</th>\n      <td>6</td>\n      <td>222.07</td>\n      <td>9.35</td>\n      <td>212.72</td>\n      <td>1738.82</td>\n    </tr>\n    <tr>\n      <th>7</th>\n      <td>7</td>\n      <td>222.07</td>\n      <td>8.33</td>\n      <td>213.74</td>\n      <td>1525.08</td>\n    </tr>\n    <tr>\n      <th>8</th>\n      <td>8</td>\n      <td>222.07</td>\n      <td>7.31</td>\n      <td>214.76</td>\n      <td>1310.32</td>\n    </tr>\n    <tr>\n      <th>9</th>\n      <td>9</td>\n      <td>222.07</td>\n      <td>6.28</td>\n      <td>215.79</td>\n      <td>1094.53</td>\n    </tr>\n    <tr>\n      <th>10</th>\n      <td>10</td>\n      <td>222.07</td>\n      <td>5.24</td>\n      <td>216.83</td>\n      <td>877.70</td>\n    </tr>\n    <tr>\n      <th>11</th>\n      <td>11</td>\n      <td>222.07</td>\n      <td>4.21</td>\n      <td>217.86</td>\n      <td>659.84</td>\n    </tr>\n    <tr>\n      <th>12</th>\n      <td>12</td>\n      <td>222.07</td>\n      <td>3.16</td>\n      <td>218.91</td>\n      <td>440.93</td>\n    </tr>\n    <tr>\n      <th>13</th>\n      <td>13</td>\n      <td>222.07</td>\n      <td>2.11</td>\n      <td>219.96</td>\n      <td>220.97</td>\n    </tr>\n    <tr>\n      <th>14</th>\n      <td>14</td>\n      <td>222.07</td>\n      <td>1.06</td>\n      <td>221.01</td>\n      <td>-0.04</td>\n    </tr>\n  </tbody>\n</table>\n</div>"
     },
     "metadata": {},
     "execution_count": 15
    }
   ],
   "source": [
    "# Loop A: Execute all calculations for all payments in the series\n",
    "import pandas as pd\n",
    "import numpy as np\n",
    "\n",
    "# Loan Details\n",
    "loan = 3000.00\n",
    "rate = 0.0575\n",
    "term = 14\n",
    "\n",
    "# Calculate the monthly payment\n",
    "payment = np.round(-np.pmt(rate/12, term, loan), 2)\n",
    "balance = loan\n",
    "df = pd.DataFrame({\n",
    "    'month': [0],\n",
    "    'payment': [np.NaN],\n",
    "    'interest': [np.NaN],\n",
    "    'principal': [np.NaN],\n",
    "    'balance': [balance]\n",
    "})\n",
    "\n",
    "# Create Amortization Schedule\n",
    "for i in range(1, term + 1):\n",
    "    interest = round(rate/12 * balance, 2)\n",
    "    principal = payment - interest\n",
    "    balance = balance - principal\n",
    "    df = df.append(\n",
    "        pd.DataFrame({\n",
    "            'month': [i],\n",
    "            'payment': [payment],\n",
    "            'interest': [interest],\n",
    "            'principal': [principal],\n",
    "            'balance': [balance]\n",
    "        })\n",
    "    )\n",
    "df = df.reset_index(drop=True)\n",
    "df[['month', 'payment', 'interest', 'principal', 'balance']]"
   ]
  },
  {
   "cell_type": "code",
   "execution_count": 24,
   "metadata": {},
   "outputs": [
    {
     "output_type": "execute_result",
     "data": {
      "text/plain": "   month payment interest principal  balance\n0      0     NaN      NaN       NaN     3000\n1      1  222.07    14.38    207.69  2792.31\n2      2  222.07    13.38    208.69  2583.62\n3      3  222.07    12.38    209.69  2373.93\n4      4  222.07    11.38    210.69  2163.24\n5      5  222.07    10.37     211.7  1951.54\n6      6  222.07     9.35    212.72  1738.82\n7      7  222.07     8.33    213.74  1525.08\n8      8  222.07     7.31    214.76  1310.32\n9      9  222.07     6.28    215.79  1094.53\n10    10  222.07     5.24    216.83    877.7\n11    11  222.07     4.21    217.86   659.84\n12    12  222.07     3.16    218.91   440.93\n13    13  222.07     2.11    219.96   220.97\n14    14  222.07     1.06    221.01    -0.04",
      "text/html": "<div>\n<style scoped>\n    .dataframe tbody tr th:only-of-type {\n        vertical-align: middle;\n    }\n\n    .dataframe tbody tr th {\n        vertical-align: top;\n    }\n\n    .dataframe thead th {\n        text-align: right;\n    }\n</style>\n<table border=\"1\" class=\"dataframe\">\n  <thead>\n    <tr style=\"text-align: right;\">\n      <th></th>\n      <th>month</th>\n      <th>payment</th>\n      <th>interest</th>\n      <th>principal</th>\n      <th>balance</th>\n    </tr>\n  </thead>\n  <tbody>\n    <tr>\n      <th>0</th>\n      <td>0</td>\n      <td>NaN</td>\n      <td>NaN</td>\n      <td>NaN</td>\n      <td>3000</td>\n    </tr>\n    <tr>\n      <th>1</th>\n      <td>1</td>\n      <td>222.07</td>\n      <td>14.38</td>\n      <td>207.69</td>\n      <td>2792.31</td>\n    </tr>\n    <tr>\n      <th>2</th>\n      <td>2</td>\n      <td>222.07</td>\n      <td>13.38</td>\n      <td>208.69</td>\n      <td>2583.62</td>\n    </tr>\n    <tr>\n      <th>3</th>\n      <td>3</td>\n      <td>222.07</td>\n      <td>12.38</td>\n      <td>209.69</td>\n      <td>2373.93</td>\n    </tr>\n    <tr>\n      <th>4</th>\n      <td>4</td>\n      <td>222.07</td>\n      <td>11.38</td>\n      <td>210.69</td>\n      <td>2163.24</td>\n    </tr>\n    <tr>\n      <th>5</th>\n      <td>5</td>\n      <td>222.07</td>\n      <td>10.37</td>\n      <td>211.7</td>\n      <td>1951.54</td>\n    </tr>\n    <tr>\n      <th>6</th>\n      <td>6</td>\n      <td>222.07</td>\n      <td>9.35</td>\n      <td>212.72</td>\n      <td>1738.82</td>\n    </tr>\n    <tr>\n      <th>7</th>\n      <td>7</td>\n      <td>222.07</td>\n      <td>8.33</td>\n      <td>213.74</td>\n      <td>1525.08</td>\n    </tr>\n    <tr>\n      <th>8</th>\n      <td>8</td>\n      <td>222.07</td>\n      <td>7.31</td>\n      <td>214.76</td>\n      <td>1310.32</td>\n    </tr>\n    <tr>\n      <th>9</th>\n      <td>9</td>\n      <td>222.07</td>\n      <td>6.28</td>\n      <td>215.79</td>\n      <td>1094.53</td>\n    </tr>\n    <tr>\n      <th>10</th>\n      <td>10</td>\n      <td>222.07</td>\n      <td>5.24</td>\n      <td>216.83</td>\n      <td>877.7</td>\n    </tr>\n    <tr>\n      <th>11</th>\n      <td>11</td>\n      <td>222.07</td>\n      <td>4.21</td>\n      <td>217.86</td>\n      <td>659.84</td>\n    </tr>\n    <tr>\n      <th>12</th>\n      <td>12</td>\n      <td>222.07</td>\n      <td>3.16</td>\n      <td>218.91</td>\n      <td>440.93</td>\n    </tr>\n    <tr>\n      <th>13</th>\n      <td>13</td>\n      <td>222.07</td>\n      <td>2.11</td>\n      <td>219.96</td>\n      <td>220.97</td>\n    </tr>\n    <tr>\n      <th>14</th>\n      <td>14</td>\n      <td>222.07</td>\n      <td>1.06</td>\n      <td>221.01</td>\n      <td>-0.04</td>\n    </tr>\n  </tbody>\n</table>\n</div>"
     },
     "metadata": {},
     "execution_count": 24
    }
   ],
   "source": [
    "# Loop B, a more efficient loop A\n",
    "# Prealocate space for the table\n",
    "import pandas as pd\n",
    "import numpy as np\n",
    "\n",
    "# Loan Details\n",
    "loan = 3000.00\n",
    "rate = 0.0575\n",
    "term = 14\n",
    "\n",
    "# Calculate the monthly payment\n",
    "payment = np.round(-np.pmt(rate/12, term, loan), 2)\n",
    "\n",
    "# Instantiate the data frame with pre-allocated space\n",
    "balance = loan\n",
    "\n",
    "index = range(0, term+1)\n",
    "columns = ['month','payment','interest','principal','balance']\n",
    "df = pd.DataFrame(index=index, columns=columns)\n",
    "\n",
    "df.iloc[0]['month'] = 0\n",
    "df.iloc[0]['balance'] = balance\n",
    "\n",
    "# Create Amortization Schedule\n",
    "for i in range(1, 15):\n",
    "    interest = round(rate/12 * balance, 2)\n",
    "    principal = payment - interest\n",
    "    balance = balance - principal\n",
    "\n",
    "    df.iloc[i]['month'] = i\n",
    "    df.iloc[i]['payment'] = payment\n",
    "    df.iloc[i]['interest'] = interest\n",
    "    df.iloc[i]['principal'] = principal\n",
    "    df.iloc[i]['balance']  = balance\n",
    "\n",
    "df"
   ]
  },
  {
   "cell_type": "code",
   "execution_count": 26,
   "metadata": {},
   "outputs": [],
   "source": [
    "# Amortization Schedule Function\n",
    "def am(loan, rate, term):\n",
    "    # Calculate the monthly payment\n",
    "    payment = np.round(-np.pmt(rate/12, term, loan), 2)\n",
    "\n",
    "    # Instantiate the data frame with pre-allocated space\n",
    "    balance = loan\n",
    "    index = range(0, term+1)\n",
    "    columns = ['month','payment','interest','principal','balance']\n",
    "    df = pd.DataFrame(index=index, columns=columns)\n",
    "\n",
    "    df.iloc[0]['month'] = 0\n",
    "    df.iloc[0]['balance'] = balance\n",
    "\n",
    "    # Create Amortization Schedule\n",
    "    for i in range(1, term+1):\n",
    "        interest = round(rate/12 * balance, 2)\n",
    "        principal = payment - interest\n",
    "        balance = balance - principal\n",
    "\n",
    "        df.iloc[i]['month'] = i\n",
    "        df.iloc[i]['payment'] = payment\n",
    "        df.iloc[i]['interest'] = interest\n",
    "        df.iloc[i]['principal'] = principal\n",
    "        df.iloc[i]['balance']  = balance\n",
    "\n",
    "    return df\n",
    "\n",
    "\n",
    "loan = 3000\n",
    "bank_a = am(loan, 0.0575, 14)\n",
    "bank_b = am(loan, 0.0399, 20)\n",
    "bank_c = am(loan, 0.0889, 8)\n"
   ]
  },
  {
   "cell_type": "code",
   "execution_count": 27,
   "metadata": {},
   "outputs": [
    {
     "output_type": "execute_result",
     "data": {
      "text/plain": "   month payment interest principal  balance\n0      0     NaN      NaN       NaN     3000\n1      1  222.07    14.38    207.69  2792.31\n2      2  222.07    13.38    208.69  2583.62\n3      3  222.07    12.38    209.69  2373.93\n4      4  222.07    11.38    210.69  2163.24\n5      5  222.07    10.37     211.7  1951.54\n6      6  222.07     9.35    212.72  1738.82\n7      7  222.07     8.33    213.74  1525.08\n8      8  222.07     7.31    214.76  1310.32\n9      9  222.07     6.28    215.79  1094.53\n10    10  222.07     5.24    216.83    877.7\n11    11  222.07     4.21    217.86   659.84\n12    12  222.07     3.16    218.91   440.93\n13    13  222.07     2.11    219.96   220.97\n14    14  222.07     1.06    221.01    -0.04",
      "text/html": "<div>\n<style scoped>\n    .dataframe tbody tr th:only-of-type {\n        vertical-align: middle;\n    }\n\n    .dataframe tbody tr th {\n        vertical-align: top;\n    }\n\n    .dataframe thead th {\n        text-align: right;\n    }\n</style>\n<table border=\"1\" class=\"dataframe\">\n  <thead>\n    <tr style=\"text-align: right;\">\n      <th></th>\n      <th>month</th>\n      <th>payment</th>\n      <th>interest</th>\n      <th>principal</th>\n      <th>balance</th>\n    </tr>\n  </thead>\n  <tbody>\n    <tr>\n      <th>0</th>\n      <td>0</td>\n      <td>NaN</td>\n      <td>NaN</td>\n      <td>NaN</td>\n      <td>3000</td>\n    </tr>\n    <tr>\n      <th>1</th>\n      <td>1</td>\n      <td>222.07</td>\n      <td>14.38</td>\n      <td>207.69</td>\n      <td>2792.31</td>\n    </tr>\n    <tr>\n      <th>2</th>\n      <td>2</td>\n      <td>222.07</td>\n      <td>13.38</td>\n      <td>208.69</td>\n      <td>2583.62</td>\n    </tr>\n    <tr>\n      <th>3</th>\n      <td>3</td>\n      <td>222.07</td>\n      <td>12.38</td>\n      <td>209.69</td>\n      <td>2373.93</td>\n    </tr>\n    <tr>\n      <th>4</th>\n      <td>4</td>\n      <td>222.07</td>\n      <td>11.38</td>\n      <td>210.69</td>\n      <td>2163.24</td>\n    </tr>\n    <tr>\n      <th>5</th>\n      <td>5</td>\n      <td>222.07</td>\n      <td>10.37</td>\n      <td>211.7</td>\n      <td>1951.54</td>\n    </tr>\n    <tr>\n      <th>6</th>\n      <td>6</td>\n      <td>222.07</td>\n      <td>9.35</td>\n      <td>212.72</td>\n      <td>1738.82</td>\n    </tr>\n    <tr>\n      <th>7</th>\n      <td>7</td>\n      <td>222.07</td>\n      <td>8.33</td>\n      <td>213.74</td>\n      <td>1525.08</td>\n    </tr>\n    <tr>\n      <th>8</th>\n      <td>8</td>\n      <td>222.07</td>\n      <td>7.31</td>\n      <td>214.76</td>\n      <td>1310.32</td>\n    </tr>\n    <tr>\n      <th>9</th>\n      <td>9</td>\n      <td>222.07</td>\n      <td>6.28</td>\n      <td>215.79</td>\n      <td>1094.53</td>\n    </tr>\n    <tr>\n      <th>10</th>\n      <td>10</td>\n      <td>222.07</td>\n      <td>5.24</td>\n      <td>216.83</td>\n      <td>877.7</td>\n    </tr>\n    <tr>\n      <th>11</th>\n      <td>11</td>\n      <td>222.07</td>\n      <td>4.21</td>\n      <td>217.86</td>\n      <td>659.84</td>\n    </tr>\n    <tr>\n      <th>12</th>\n      <td>12</td>\n      <td>222.07</td>\n      <td>3.16</td>\n      <td>218.91</td>\n      <td>440.93</td>\n    </tr>\n    <tr>\n      <th>13</th>\n      <td>13</td>\n      <td>222.07</td>\n      <td>2.11</td>\n      <td>219.96</td>\n      <td>220.97</td>\n    </tr>\n    <tr>\n      <th>14</th>\n      <td>14</td>\n      <td>222.07</td>\n      <td>1.06</td>\n      <td>221.01</td>\n      <td>-0.04</td>\n    </tr>\n  </tbody>\n</table>\n</div>"
     },
     "metadata": {},
     "execution_count": 27
    }
   ],
   "source": [
    "bank_a"
   ]
  },
  {
   "cell_type": "code",
   "execution_count": 28,
   "metadata": {},
   "outputs": [
    {
     "output_type": "execute_result",
     "data": {
      "text/plain": "   month payment interest principal  balance\n0      0     NaN      NaN       NaN     3000\n1      1  155.29     9.97    145.32  2854.68\n2      2  155.29     9.49     145.8  2708.88\n3      3  155.29     9.01    146.28   2562.6\n4      4  155.29     8.52    146.77  2415.83\n5      5  155.29     8.03    147.26  2268.57\n6      6  155.29     7.54    147.75  2120.82\n7      7  155.29     7.05    148.24  1972.58\n8      8  155.29     6.56    148.73  1823.85\n9      9  155.29     6.06    149.23  1674.62\n10    10  155.29     5.57    149.72   1524.9\n11    11  155.29     5.07    150.22  1374.68\n12    12  155.29     4.57    150.72  1223.96\n13    13  155.29     4.07    151.22  1072.74\n14    14  155.29     3.57    151.72   921.02\n15    15  155.29     3.06    152.23   768.79\n16    16  155.29     2.56    152.73   616.06\n17    17  155.29     2.05    153.24   462.82\n18    18  155.29     1.54    153.75   309.07\n19    19  155.29     1.03    154.26   154.81\n20    20  155.29     0.51    154.78     0.03",
      "text/html": "<div>\n<style scoped>\n    .dataframe tbody tr th:only-of-type {\n        vertical-align: middle;\n    }\n\n    .dataframe tbody tr th {\n        vertical-align: top;\n    }\n\n    .dataframe thead th {\n        text-align: right;\n    }\n</style>\n<table border=\"1\" class=\"dataframe\">\n  <thead>\n    <tr style=\"text-align: right;\">\n      <th></th>\n      <th>month</th>\n      <th>payment</th>\n      <th>interest</th>\n      <th>principal</th>\n      <th>balance</th>\n    </tr>\n  </thead>\n  <tbody>\n    <tr>\n      <th>0</th>\n      <td>0</td>\n      <td>NaN</td>\n      <td>NaN</td>\n      <td>NaN</td>\n      <td>3000</td>\n    </tr>\n    <tr>\n      <th>1</th>\n      <td>1</td>\n      <td>155.29</td>\n      <td>9.97</td>\n      <td>145.32</td>\n      <td>2854.68</td>\n    </tr>\n    <tr>\n      <th>2</th>\n      <td>2</td>\n      <td>155.29</td>\n      <td>9.49</td>\n      <td>145.8</td>\n      <td>2708.88</td>\n    </tr>\n    <tr>\n      <th>3</th>\n      <td>3</td>\n      <td>155.29</td>\n      <td>9.01</td>\n      <td>146.28</td>\n      <td>2562.6</td>\n    </tr>\n    <tr>\n      <th>4</th>\n      <td>4</td>\n      <td>155.29</td>\n      <td>8.52</td>\n      <td>146.77</td>\n      <td>2415.83</td>\n    </tr>\n    <tr>\n      <th>5</th>\n      <td>5</td>\n      <td>155.29</td>\n      <td>8.03</td>\n      <td>147.26</td>\n      <td>2268.57</td>\n    </tr>\n    <tr>\n      <th>6</th>\n      <td>6</td>\n      <td>155.29</td>\n      <td>7.54</td>\n      <td>147.75</td>\n      <td>2120.82</td>\n    </tr>\n    <tr>\n      <th>7</th>\n      <td>7</td>\n      <td>155.29</td>\n      <td>7.05</td>\n      <td>148.24</td>\n      <td>1972.58</td>\n    </tr>\n    <tr>\n      <th>8</th>\n      <td>8</td>\n      <td>155.29</td>\n      <td>6.56</td>\n      <td>148.73</td>\n      <td>1823.85</td>\n    </tr>\n    <tr>\n      <th>9</th>\n      <td>9</td>\n      <td>155.29</td>\n      <td>6.06</td>\n      <td>149.23</td>\n      <td>1674.62</td>\n    </tr>\n    <tr>\n      <th>10</th>\n      <td>10</td>\n      <td>155.29</td>\n      <td>5.57</td>\n      <td>149.72</td>\n      <td>1524.9</td>\n    </tr>\n    <tr>\n      <th>11</th>\n      <td>11</td>\n      <td>155.29</td>\n      <td>5.07</td>\n      <td>150.22</td>\n      <td>1374.68</td>\n    </tr>\n    <tr>\n      <th>12</th>\n      <td>12</td>\n      <td>155.29</td>\n      <td>4.57</td>\n      <td>150.72</td>\n      <td>1223.96</td>\n    </tr>\n    <tr>\n      <th>13</th>\n      <td>13</td>\n      <td>155.29</td>\n      <td>4.07</td>\n      <td>151.22</td>\n      <td>1072.74</td>\n    </tr>\n    <tr>\n      <th>14</th>\n      <td>14</td>\n      <td>155.29</td>\n      <td>3.57</td>\n      <td>151.72</td>\n      <td>921.02</td>\n    </tr>\n    <tr>\n      <th>15</th>\n      <td>15</td>\n      <td>155.29</td>\n      <td>3.06</td>\n      <td>152.23</td>\n      <td>768.79</td>\n    </tr>\n    <tr>\n      <th>16</th>\n      <td>16</td>\n      <td>155.29</td>\n      <td>2.56</td>\n      <td>152.73</td>\n      <td>616.06</td>\n    </tr>\n    <tr>\n      <th>17</th>\n      <td>17</td>\n      <td>155.29</td>\n      <td>2.05</td>\n      <td>153.24</td>\n      <td>462.82</td>\n    </tr>\n    <tr>\n      <th>18</th>\n      <td>18</td>\n      <td>155.29</td>\n      <td>1.54</td>\n      <td>153.75</td>\n      <td>309.07</td>\n    </tr>\n    <tr>\n      <th>19</th>\n      <td>19</td>\n      <td>155.29</td>\n      <td>1.03</td>\n      <td>154.26</td>\n      <td>154.81</td>\n    </tr>\n    <tr>\n      <th>20</th>\n      <td>20</td>\n      <td>155.29</td>\n      <td>0.51</td>\n      <td>154.78</td>\n      <td>0.03</td>\n    </tr>\n  </tbody>\n</table>\n</div>"
     },
     "metadata": {},
     "execution_count": 28
    }
   ],
   "source": [
    "bank_b"
   ]
  },
  {
   "cell_type": "code",
   "execution_count": 29,
   "metadata": {},
   "outputs": [
    {
     "output_type": "execute_result",
     "data": {
      "text/plain": "  month payment interest principal      balance\n0     0     NaN      NaN       NaN         3000\n1     1  387.61    22.23    365.38      2634.62\n2     2  387.61    19.52    368.09      2266.53\n3     3  387.61    16.79    370.82      1895.71\n4     4  387.61    14.04    373.57      1522.14\n5     5  387.61    11.28    376.33      1145.81\n6     6  387.61     8.49    379.12       766.69\n7     7  387.61     5.68    381.93       384.76\n8     8  387.61     2.85    384.76 -5.68434e-14",
      "text/html": "<div>\n<style scoped>\n    .dataframe tbody tr th:only-of-type {\n        vertical-align: middle;\n    }\n\n    .dataframe tbody tr th {\n        vertical-align: top;\n    }\n\n    .dataframe thead th {\n        text-align: right;\n    }\n</style>\n<table border=\"1\" class=\"dataframe\">\n  <thead>\n    <tr style=\"text-align: right;\">\n      <th></th>\n      <th>month</th>\n      <th>payment</th>\n      <th>interest</th>\n      <th>principal</th>\n      <th>balance</th>\n    </tr>\n  </thead>\n  <tbody>\n    <tr>\n      <th>0</th>\n      <td>0</td>\n      <td>NaN</td>\n      <td>NaN</td>\n      <td>NaN</td>\n      <td>3000</td>\n    </tr>\n    <tr>\n      <th>1</th>\n      <td>1</td>\n      <td>387.61</td>\n      <td>22.23</td>\n      <td>365.38</td>\n      <td>2634.62</td>\n    </tr>\n    <tr>\n      <th>2</th>\n      <td>2</td>\n      <td>387.61</td>\n      <td>19.52</td>\n      <td>368.09</td>\n      <td>2266.53</td>\n    </tr>\n    <tr>\n      <th>3</th>\n      <td>3</td>\n      <td>387.61</td>\n      <td>16.79</td>\n      <td>370.82</td>\n      <td>1895.71</td>\n    </tr>\n    <tr>\n      <th>4</th>\n      <td>4</td>\n      <td>387.61</td>\n      <td>14.04</td>\n      <td>373.57</td>\n      <td>1522.14</td>\n    </tr>\n    <tr>\n      <th>5</th>\n      <td>5</td>\n      <td>387.61</td>\n      <td>11.28</td>\n      <td>376.33</td>\n      <td>1145.81</td>\n    </tr>\n    <tr>\n      <th>6</th>\n      <td>6</td>\n      <td>387.61</td>\n      <td>8.49</td>\n      <td>379.12</td>\n      <td>766.69</td>\n    </tr>\n    <tr>\n      <th>7</th>\n      <td>7</td>\n      <td>387.61</td>\n      <td>5.68</td>\n      <td>381.93</td>\n      <td>384.76</td>\n    </tr>\n    <tr>\n      <th>8</th>\n      <td>8</td>\n      <td>387.61</td>\n      <td>2.85</td>\n      <td>384.76</td>\n      <td>-5.68434e-14</td>\n    </tr>\n  </tbody>\n</table>\n</div>"
     },
     "metadata": {},
     "execution_count": 29
    }
   ],
   "source": [
    "bank_c "
   ]
  },
  {
   "cell_type": "code",
   "execution_count": 31,
   "metadata": {
    "tags": []
   },
   "outputs": [
    {
     "output_type": "stream",
     "name": "stdout",
     "text": "108.93999999999998\n105.82999999999997\n100.88\n"
    }
   ],
   "source": [
    "# bank_a = pineapple\n",
    "# bank_b = orange\n",
    "# bank_c = banana\n",
    "\n",
    "# Find out which bank has the lowest interest cost\n",
    "print(bank_a['interest'].sum())\n",
    "print(bank_b['interest'].sum())\n",
    "print(bank_c['interest'].sum())\n"
   ]
  },
  {
   "cell_type": "code",
   "execution_count": null,
   "metadata": {},
   "outputs": [],
   "source": []
  }
 ]
}