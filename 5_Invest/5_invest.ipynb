{
 "metadata": {
  "language_info": {
   "codemirror_mode": {
    "name": "ipython",
    "version": 3
   },
   "file_extension": ".py",
   "mimetype": "text/x-python",
   "name": "python",
   "nbconvert_exporter": "python",
   "pygments_lexer": "ipython3",
   "version": "3.7.6-final"
  },
  "orig_nbformat": 2,
  "kernelspec": {
   "name": "Python 3.7.6 64-bit ('base': conda)",
   "display_name": "Python 3.7.6 64-bit ('base': conda)",
   "metadata": {
    "interpreter": {
     "hash": "97ae724bfa85b9b34df7982b8bb8c7216f435b92902d749e4263f71162bea840"
    }
   }
  }
 },
 "nbformat": 4,
 "nbformat_minor": 2,
 "cells": [
  {
   "cell_type": "code",
   "execution_count": 2,
   "metadata": {},
   "outputs": [],
   "source": [
    "### Investing and Rebalincing a Portfolio\n",
    "\n",
    "# 1) Instantiate\n",
    "# Build a portfolio with the following target allocations:\n",
    "# - Amazon(AMZN) = 40%\n",
    "# - Cisco(CSCO) = 30%\n",
    "# - General Electric(GE) = 30%\n",
    "\n",
    "targets = {\n",
    "    'AMZN': 0.40, # Amazon\n",
    "    'CSCO': 0.30, # Cisco\n",
    "    'GE': 0.30 # General Electric\n",
    "}"
   ]
  },
  {
   "cell_type": "code",
   "execution_count": 6,
   "metadata": {
    "tags": []
   },
   "outputs": [
    {
     "output_type": "stream",
     "name": "stdout",
     "text": "            date  price  target  allocation  shares  market_value\nAMZN  2020-09-25    NaN     0.4           0       0             0\nCSCO  2020-09-25    NaN     0.3           0       0             0\nGE    2020-09-25    NaN     0.3           0       0             0\nCASH  2020-09-25    1.0     0.0           1   10000         10000\n"
    }
   ],
   "source": [
    "import pandas as pd\n",
    "import numpy as np\n",
    "\n",
    "# Manually created data frame\n",
    "portfolio = pd.DataFrame(\n",
    "    index=list(targets.keys()) + ['CASH'],\n",
    "    data={\n",
    "        'date': '2020-09-25',\n",
    "        'price': [np.NaN, np.NaN, np.NaN, 1],\n",
    "        'target': [0.4, 0.3, 0.3, 0],\n",
    "        'allocation': [0, 0, 0, 1],\n",
    "        'shares': [0, 0, 0, 10000],\n",
    "        'market_value': [0, 0, 0, 10000]\n",
    "    }\n",
    ")\n",
    "print(portfolio)"
   ]
  },
  {
   "cell_type": "code",
   "execution_count": 7,
   "metadata": {
    "tags": []
   },
   "outputs": [
    {
     "output_type": "stream",
     "name": "stdout",
     "text": "     date price target  allocation  shares  market_value\nAMZN  NaN   NaN    0.4           0       0             0\nCSCO  NaN   NaN    0.3           0       0             0\nGE    NaN   NaN    0.3           0       0             0\nCASH  NaN   NaN      0           0   10000             0\n"
    }
   ],
   "source": [
    "# Portfolio Instantiation Function\n",
    "def instantiate_portfolio(targets, starting_balance):\n",
    "\n",
    "    # Initialize CASH to zero.  This is not a security and does not \n",
    "    # need to be rebalanced.  It is just an overflow buffer\n",
    "    targets['CASH'] = 0\n",
    "    # Convert input dict into a list\n",
    "    tickers = list(targets.keys())\n",
    "\n",
    "    df = pd.DataFrame(\n",
    "        index=tickers,\n",
    "        columns=[\n",
    "            'date','price','target',\n",
    "            'allocation','shares','market_value'\n",
    "        ]\n",
    "    )\n",
    "    df.shares = 0\n",
    "    df.market_value = 0\n",
    "    df.allocation = 0\n",
    "    df.update(\n",
    "        pd.DataFrame\n",
    "            .from_dict(targets, orient=\"index\")\n",
    "            .rename(columns={0: 'target'})\n",
    "    )\n",
    "    df.at['CASH','shares'] = starting_balance\n",
    "\n",
    "    return df\n",
    "\n",
    "# Function Test\n",
    "targets = {\n",
    "    'AMZN': 0.40, # Amazon\n",
    "    'CSCO': 0.30, # Cisco\n",
    "    'GE': 0.30 # General Electric\n",
    "}\n",
    "\n",
    "portfolio = instantiate_portfolio(targets, 10000)\n",
    "print(portfolio)"
   ]
  },
  {
   "cell_type": "code",
   "execution_count": 8,
   "metadata": {
    "tags": []
   },
   "outputs": [
    {
     "output_type": "stream",
     "name": "stdout",
     "text": "AMZN    945.21\nCSCO     30.52\nGE       29.27\nName: 2018-01-01, dtype: float64\n"
    }
   ],
   "source": [
    "# Function to update ticker prices\n",
    "def update_prices(portfolio, prices):\n",
    "    prices['CASH'] = 1\n",
    "    portfolio.update(pd.DataFrame({'price': prices}))\n",
    "    portfolio.date = prices.name\n",
    "    portfolio.market_value = portfolio.shares * portfolio.price\n",
    "\n",
    "# fake for right now\n",
    "prices = pd.Series(\n",
    "    name='2018-01-01',\n",
    "    data={'AMZN': 945.21, 'CSCO': 30.52, 'GE': 29.27}\n",
    ")\n",
    "\n",
    "print(prices)\n",
    "update_prices(portfolio, prices)"
   ]
  },
  {
   "cell_type": "code",
   "execution_count": 9,
   "metadata": {
    "tags": []
   },
   "outputs": [
    {
     "output_type": "stream",
     "name": "stdout",
     "text": "            date   price target  allocation  shares market_value\nAMZN  2018-01-01  945.21    0.4           0       0            0\nCSCO  2018-01-01   30.52    0.3           0       0            0\nGE    2018-01-01   29.27    0.3           0       0            0\nCASH  2018-01-01       1      0           0   10000        10000\n"
    }
   ],
   "source": [
    "print(portfolio)"
   ]
  },
  {
   "cell_type": "code",
   "execution_count": 10,
   "metadata": {
    "tags": []
   },
   "outputs": [
    {
     "output_type": "stream",
     "name": "stdout",
     "text": "AMZN      4\nCSCO     98\nGE      102\ndtype: object\n"
    }
   ],
   "source": [
    "# Orders will calculate the buy and sell orders to achieve target balances\n",
    "# Does not edit the original portfolio.\n",
    "def get_order(portfolio):\n",
    "    total_value = portfolio.market_value.sum()\n",
    "\n",
    "    order = (\n",
    "        (total_value * portfolio.target // portfolio.price)  #// is a floor divisor to return quotiant\n",
    "        - portfolio.shares\n",
    "    ).drop('CASH')\n",
    "\n",
    "    return order\n",
    "\n",
    "# Use function to get buy amounts\n",
    "order = get_order(portfolio)\n",
    "print(order)"
   ]
  },
  {
   "cell_type": "code",
   "execution_count": 11,
   "metadata": {
    "tags": []
   },
   "outputs": [
    {
     "output_type": "stream",
     "name": "stdout",
     "text": "AMZN      4\nCSCO    108\nGE      112\ndtype: object\n"
    }
   ],
   "source": [
    "# Deposit\n",
    "\n",
    "def deposit(portfolio, amount):\n",
    "    portfolio.at['CASH', 'shares'] += amount\n",
    "    portfolio.at['CASH', 'market_value'] = portfolio.at['CASH','shares']\n",
    "\n",
    "deposit(portfolio, 1000)\n",
    "\n",
    "order = get_order(portfolio)\n",
    "print(order)"
   ]
  },
  {
   "cell_type": "code",
   "execution_count": null,
   "metadata": {},
   "outputs": [],
   "source": [
    "# Simulate the execution of by/sell orders.\n",
    "\n",
    "def simulate_process_order(portfolio,order):\n",
    "    starting_cash = portfolio.at['CASH','SHARES']\n",
    "    cash_adjustment = np.sum(order * portfolio.price)\n",
    "    portfolio.shares += order\n",
    "    portfolio.market_value = portfolio.shares * portfolio.price\n",
    "    \n"
   ]
  }
 ]
}