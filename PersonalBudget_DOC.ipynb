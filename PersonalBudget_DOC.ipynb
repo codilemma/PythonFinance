{
 "metadata": {
  "language_info": {
   "codemirror_mode": {
    "name": "ipython",
    "version": 3
   },
   "file_extension": ".py",
   "mimetype": "text/x-python",
   "name": "python",
   "nbconvert_exporter": "python",
   "pygments_lexer": "ipython3",
   "version": "3.7.6-final"
  },
  "orig_nbformat": 2,
  "kernelspec": {
   "name": "Python 3.7.6 64-bit ('base': conda)",
   "display_name": "Python 3.7.6 64-bit ('base': conda)",
   "metadata": {
    "interpreter": {
     "hash": "97ae724bfa85b9b34df7982b8bb8c7216f435b92902d749e4263f71162bea840"
    }
   }
  }
 },
 "nbformat": 4,
 "nbformat_minor": 2,
 "cells": [
  {
   "source": [
    "# **PersonalBudget** Class Breakdown\n",
    "\n",
    "### Gobal Dependencies: yaml, datetime, pandas, matplotlib, recurrent, dateutil\n",
    "### Local Dependencies: #TODO: Add FinancialVisuals and other Dependencies\n",
    "\n",
    "..............# TODO: Add brief Class description\n",
    "\n",
    "## 1a) Initialize: __init__() Definition\n",
    "..............# TODO: Add brief description\n",
    "### I) Inputs:\n",
    "        - start_date, dType = list, format = [YYYY,MM,DD]\n",
    "        - yaml_file,  dType = .yaml\n",
    "        - excel_file, dType = .xlsx"
   ],
   "cell_type": "markdown",
   "metadata": {}
  },
  {
   "cell_type": "code",
   "execution_count": null,
   "metadata": {},
   "outputs": [],
   "source": [
    "    def __init__(self,start_date,yaml_file):\n",
    "        '''Initialize the Personal Budget with your cash flow file'''\n",
    "\n",
    "        # Get Start and End Date\n",
    "        self.today = pd.Timestamp(start_date[0],\n",
    "                                  start_date[1],\n",
    "                                  start_date[2]).normalize()\n",
    "\n",
    "        self.end   = self.today + datetime.timedelta(days=365)\n",
    "\n",
    "        # Load Cash flow yaml file.\n",
    "        # TODO: Add Gui for File Selection & Add Excel Import\n",
    "        with open(yaml_file) as file:\n",
    "            self.budget = yaml.load(file)\n",
    "\n",
    "        #initialize Calender\n",
    "        self.frequency = 0\n",
    "        self.amount = 0\n",
    "        self.dates = 0\n",
    "        self.calendar = pd.DataFrame(index=pd.date_range\n",
    "                                    (start=self.today,\n",
    "                                     end=self.end))"
   ]
  },
  {
   "source": [
    "## 1b) Initialize: __init__() Demonstration"
   ],
   "cell_type": "markdown",
   "metadata": {}
  },
  {
   "cell_type": "code",
   "execution_count": 3,
   "metadata": {
    "tags": []
   },
   "outputs": [
    {
     "output_type": "stream",
     "name": "stdout",
     "text": "&lt;class &#39;PersonalBudget.PersonalBudget&#39;&gt;\n"
    },
    {
     "output_type": "execute_result",
     "data": {
      "text/plain": "&lt;PersonalBudget.PersonalBudget at 0x21d60ca7108&gt;"
     },
     "metadata": {},
     "execution_count": 3
    }
   ],
   "source": [
    "from PersonalBudget import PersonalBudget\n",
    "\n",
    "yaml_file = 'example_budget.yaml'\n",
    "budget_start = [2021,10,1]\n",
    "my_budget = PersonalBudget(budget_start,yaml_file)\n",
    "print(type(my_budget))\n",
    "my_budget"
   ]
  },
  {
   "source": [
    "## 2a) Function Definition:  **build_calendar()** \n",
    "\n",
    "Builds a calendar from the file imported on init.\n",
    "\n",
    "### I) Inputs:\n",
    "        - None\n",
    "### II) Outputs:\n",
    "        - calendar, dType = DataFrame\n",
    "### III) Code Snip:"
   ],
   "cell_type": "markdown",
   "metadata": {}
  },
  {
   "cell_type": "code",
   "execution_count": null,
   "metadata": {},
   "outputs": [],
   "source": [
    "def build_calendar(self):\n",
    "        ''' Will automatically build a budget callender when the class is created'''\n",
    "        \n",
    "        for k, v in self.budget.items():\n",
    "            self.frequency = v.get('frequency')\n",
    "            self.amount = v.get('amount')\n",
    "            self.dates = self.get_dates(self.frequency)\n",
    "            i = pd.DataFrame(\n",
    "                data={k: self.amount},\n",
    "                index=pd.DatetimeIndex(pd.Series(self.dates))\n",
    "            )\n",
    "            self.calendar = pd.concat([self.calendar, i], axis=1).fillna(0)\n",
    "        \n",
    "        #self.calendar['total'] = self.calendar.sum(axis=1)\n",
    "        #self.calendar['cum_total'] = self.calendar['total'].cumsum()\n",
    "        #self.calendar['savings_total'] = self.calendar['savings'].cumsum()"
   ]
  },
  {
   "source": [
    "## 2b) Function Demonstration: build_calendar()"
   ],
   "cell_type": "markdown",
   "metadata": {}
  },
  {
   "cell_type": "code",
   "execution_count": 4,
   "metadata": {
    "tags": []
   },
   "outputs": [
    {
     "output_type": "stream",
     "name": "stdout",
     "text": "              bank  income  rent   fun  savings\n2020-09-30  4000.0     0.0   0.0   0.0      0.0\n2021-10-01     0.0  1000.0   0.0 -40.0      0.0\n2021-10-02     0.0     0.0   0.0 -40.0      0.0\n2021-10-03     0.0     0.0   0.0   0.0      0.0\n2021-10-04     0.0     0.0   0.0   0.0    -50.0\n"
    }
   ],
   "source": [
    "my_calendar = my_budget.build_calendar()\n",
    "print(my_calendar.head(5))"
   ]
  },
  {
   "source": [
    "## Function Definition:  **get_dates()** \n",
    "..............# TODO: Add brief description\n",
    "### I) Inputs:\n",
    "        - start_date, yaml_file"
   ],
   "cell_type": "markdown",
   "metadata": {}
  }
 ]
}