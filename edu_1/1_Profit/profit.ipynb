{
 "metadata": {
  "language_info": {
   "codemirror_mode": {
    "name": "ipython",
    "version": 3
   },
   "file_extension": ".py",
   "mimetype": "text/x-python",
   "name": "python",
   "nbconvert_exporter": "python",
   "pygments_lexer": "ipython3",
   "version": "3.7.6-final"
  },
  "orig_nbformat": 2,
  "kernelspec": {
   "name": "python_defaultSpec_1600729051940",
   "display_name": "Python 3.7.7 64-bit ('penv': venv)"
  }
 },
 "nbformat": 4,
 "nbformat_minor": 2,
 "cells": [
  {
   "cell_type": "code",
   "execution_count": 3,
   "metadata": {
    "tags": []
   },
   "outputs": [
    {
     "output_type": "stream",
     "name": "stdout",
     "text": "100.0%\n"
    }
   ],
   "source": [
    "# Return on Investment (ROI)\n",
    "ret = 6000\n",
    "inv = 3000\n",
    "print(f'{(ret-inv)/inv*100}%')"
   ]
  },
  {
   "cell_type": "code",
   "execution_count": 5,
   "metadata": {},
   "outputs": [
    {
     "output_type": "execute_result",
     "data": {
      "text/plain": "        date  income  expenses\n0 2017-01-01       0     -3000\n1 2018-01-01    1000         0\n2 2019-01-01    1000         0\n3 2020-01-01    1000         0\n4 2021-01-01    1000         0",
      "text/html": "<div>\n<style scoped>\n    .dataframe tbody tr th:only-of-type {\n        vertical-align: middle;\n    }\n\n    .dataframe tbody tr th {\n        vertical-align: top;\n    }\n\n    .dataframe thead th {\n        text-align: right;\n    }\n</style>\n<table border=\"1\" class=\"dataframe\">\n  <thead>\n    <tr style=\"text-align: right;\">\n      <th></th>\n      <th>date</th>\n      <th>income</th>\n      <th>expenses</th>\n    </tr>\n  </thead>\n  <tbody>\n    <tr>\n      <th>0</th>\n      <td>2017-01-01</td>\n      <td>0</td>\n      <td>-3000</td>\n    </tr>\n    <tr>\n      <th>1</th>\n      <td>2018-01-01</td>\n      <td>1000</td>\n      <td>0</td>\n    </tr>\n    <tr>\n      <th>2</th>\n      <td>2019-01-01</td>\n      <td>1000</td>\n      <td>0</td>\n    </tr>\n    <tr>\n      <th>3</th>\n      <td>2020-01-01</td>\n      <td>1000</td>\n      <td>0</td>\n    </tr>\n    <tr>\n      <th>4</th>\n      <td>2021-01-01</td>\n      <td>1000</td>\n      <td>0</td>\n    </tr>\n  </tbody>\n</table>\n</div>"
     },
     "metadata": {},
     "execution_count": 5
    }
   ],
   "source": [
    "# Internal Rate of Return (IRR)\n",
    "# def: The IRR is the discount rate at wich the net \n",
    "# present value of a potential investment is 0\n",
    "\n",
    "import pandas as pd\n",
    "df = pd.read_excel('../data/xirr.xlsx', sheet_name='regular')\n",
    "df"
   ]
  },
  {
   "cell_type": "code",
   "execution_count": 6,
   "metadata": {},
   "outputs": [
    {
     "output_type": "execute_result",
     "data": {
      "text/plain": "        date  income  expenses  total\n0 2017-01-01       0     -3000  -3000\n1 2018-01-01    1000         0   1000\n2 2019-01-01    1000         0   1000\n3 2020-01-01    1000         0   1000\n4 2021-01-01    1000         0   1000",
      "text/html": "<div>\n<style scoped>\n    .dataframe tbody tr th:only-of-type {\n        vertical-align: middle;\n    }\n\n    .dataframe tbody tr th {\n        vertical-align: top;\n    }\n\n    .dataframe thead th {\n        text-align: right;\n    }\n</style>\n<table border=\"1\" class=\"dataframe\">\n  <thead>\n    <tr style=\"text-align: right;\">\n      <th></th>\n      <th>date</th>\n      <th>income</th>\n      <th>expenses</th>\n      <th>total</th>\n    </tr>\n  </thead>\n  <tbody>\n    <tr>\n      <th>0</th>\n      <td>2017-01-01</td>\n      <td>0</td>\n      <td>-3000</td>\n      <td>-3000</td>\n    </tr>\n    <tr>\n      <th>1</th>\n      <td>2018-01-01</td>\n      <td>1000</td>\n      <td>0</td>\n      <td>1000</td>\n    </tr>\n    <tr>\n      <th>2</th>\n      <td>2019-01-01</td>\n      <td>1000</td>\n      <td>0</td>\n      <td>1000</td>\n    </tr>\n    <tr>\n      <th>3</th>\n      <td>2020-01-01</td>\n      <td>1000</td>\n      <td>0</td>\n      <td>1000</td>\n    </tr>\n    <tr>\n      <th>4</th>\n      <td>2021-01-01</td>\n      <td>1000</td>\n      <td>0</td>\n      <td>1000</td>\n    </tr>\n  </tbody>\n</table>\n</div>"
     },
     "metadata": {},
     "execution_count": 6
    }
   ],
   "source": [
    "# Create new collumn for total\n",
    "df['total'] = df.income + df.expenses\n",
    "df"
   ]
  },
  {
   "cell_type": "code",
   "execution_count": 8,
   "metadata": {},
   "outputs": [
    {
     "output_type": "execute_result",
     "data": {
      "text/plain": "545.8405394879746"
     },
     "metadata": {},
     "execution_count": 8
    }
   ],
   "source": [
    "# Net Present Value\n",
    "# IRR/XIRR is tightly coupled with net present value (NPV/XNPV)\n",
    "\n",
    "def xnpv(rate, values, dates):\n",
    "    '''Replicates the excel XNPV() function'''\n",
    "    min_date = min(dates)\n",
    "    return sum([\n",
    "        value / (1 + rate)**((date - min_date).days / 365)\n",
    "        for value, date\n",
    "        in zip(values, dates)\n",
    "    ])\n",
    "\n",
    "xnpv(0.05, df.total, df.date)"
   ]
  },
  {
   "cell_type": "code",
   "execution_count": 13,
   "metadata": {},
   "outputs": [
    {
     "output_type": "execute_result",
     "data": {
      "text/plain": "0.12586608083934045"
     },
     "metadata": {},
     "execution_count": 13
    }
   ],
   "source": [
    "# Internal Rate of Return (IRR) Function\n",
    "from scipy.optimize import newton\n",
    "\n",
    "def xirr(values, dates):\n",
    "    '''Replicates the excel XIRR() function'''\n",
    "    return newton(lambda r: xnpv(r, values, dates), 0)\n",
    "\n",
    "xirr(df.total, df.date)"
   ]
  },
  {
   "cell_type": "code",
   "execution_count": 16,
   "metadata": {},
   "outputs": [
    {
     "output_type": "execute_result",
     "data": {
      "text/plain": "         date  income  expenses  total\n0  2017-01-01      40     -3000  -2960\n1  2017-01-25      40       -50    -10\n2  2017-02-12      80       -50     30\n3  2017-02-14     100       -30     70\n4  2017-03-04     100       -20     80\n5  2017-04-23     160       -30    130\n6  2017-05-07     140       -20    120\n7  2017-05-21     140       -40    100\n8  2017-06-04      80       -40     40\n9  2017-06-19     180       -30    150\n10 2017-07-16     360       -40    320\n11 2017-08-27     160       -30    130\n12 2017-09-24     240       -20    220\n13 2017-10-21     420       -50    370\n14 2017-11-19     400       -20    380\n15 2017-12-03     340       -40    300\n16 2017-12-17     360       -40    320\n17 2017-12-31     540       -40    500",
      "text/html": "<div>\n<style scoped>\n    .dataframe tbody tr th:only-of-type {\n        vertical-align: middle;\n    }\n\n    .dataframe tbody tr th {\n        vertical-align: top;\n    }\n\n    .dataframe thead th {\n        text-align: right;\n    }\n</style>\n<table border=\"1\" class=\"dataframe\">\n  <thead>\n    <tr style=\"text-align: right;\">\n      <th></th>\n      <th>date</th>\n      <th>income</th>\n      <th>expenses</th>\n      <th>total</th>\n    </tr>\n  </thead>\n  <tbody>\n    <tr>\n      <th>0</th>\n      <td>2017-01-01</td>\n      <td>40</td>\n      <td>-3000</td>\n      <td>-2960</td>\n    </tr>\n    <tr>\n      <th>1</th>\n      <td>2017-01-25</td>\n      <td>40</td>\n      <td>-50</td>\n      <td>-10</td>\n    </tr>\n    <tr>\n      <th>2</th>\n      <td>2017-02-12</td>\n      <td>80</td>\n      <td>-50</td>\n      <td>30</td>\n    </tr>\n    <tr>\n      <th>3</th>\n      <td>2017-02-14</td>\n      <td>100</td>\n      <td>-30</td>\n      <td>70</td>\n    </tr>\n    <tr>\n      <th>4</th>\n      <td>2017-03-04</td>\n      <td>100</td>\n      <td>-20</td>\n      <td>80</td>\n    </tr>\n    <tr>\n      <th>5</th>\n      <td>2017-04-23</td>\n      <td>160</td>\n      <td>-30</td>\n      <td>130</td>\n    </tr>\n    <tr>\n      <th>6</th>\n      <td>2017-05-07</td>\n      <td>140</td>\n      <td>-20</td>\n      <td>120</td>\n    </tr>\n    <tr>\n      <th>7</th>\n      <td>2017-05-21</td>\n      <td>140</td>\n      <td>-40</td>\n      <td>100</td>\n    </tr>\n    <tr>\n      <th>8</th>\n      <td>2017-06-04</td>\n      <td>80</td>\n      <td>-40</td>\n      <td>40</td>\n    </tr>\n    <tr>\n      <th>9</th>\n      <td>2017-06-19</td>\n      <td>180</td>\n      <td>-30</td>\n      <td>150</td>\n    </tr>\n    <tr>\n      <th>10</th>\n      <td>2017-07-16</td>\n      <td>360</td>\n      <td>-40</td>\n      <td>320</td>\n    </tr>\n    <tr>\n      <th>11</th>\n      <td>2017-08-27</td>\n      <td>160</td>\n      <td>-30</td>\n      <td>130</td>\n    </tr>\n    <tr>\n      <th>12</th>\n      <td>2017-09-24</td>\n      <td>240</td>\n      <td>-20</td>\n      <td>220</td>\n    </tr>\n    <tr>\n      <th>13</th>\n      <td>2017-10-21</td>\n      <td>420</td>\n      <td>-50</td>\n      <td>370</td>\n    </tr>\n    <tr>\n      <th>14</th>\n      <td>2017-11-19</td>\n      <td>400</td>\n      <td>-20</td>\n      <td>380</td>\n    </tr>\n    <tr>\n      <th>15</th>\n      <td>2017-12-03</td>\n      <td>340</td>\n      <td>-40</td>\n      <td>300</td>\n    </tr>\n    <tr>\n      <th>16</th>\n      <td>2017-12-17</td>\n      <td>360</td>\n      <td>-40</td>\n      <td>320</td>\n    </tr>\n    <tr>\n      <th>17</th>\n      <td>2017-12-31</td>\n      <td>540</td>\n      <td>-40</td>\n      <td>500</td>\n    </tr>\n  </tbody>\n</table>\n</div>"
     },
     "metadata": {},
     "execution_count": 16
    }
   ],
   "source": [
    "# Apply process to the irregular cash flow schedule\n",
    "df = pd.read_excel('../data/xirr.xlsx', sheet_name=\"irregular\")\n",
    "df['total'] = df.income + df.expenses\n",
    "df"
   ]
  },
  {
   "cell_type": "code",
   "execution_count": 17,
   "metadata": {},
   "outputs": [
    {
     "output_type": "execute_result",
     "data": {
      "text/plain": "0.13812581670383547"
     },
     "metadata": {},
     "execution_count": 17
    }
   ],
   "source": [
    "# Calculate the Internal Rate of Return\n",
    "# This number should always be higher than the loan rate\n",
    "xirr(df.total, df.date)"
   ]
  }
 ]
}