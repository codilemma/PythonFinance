{
 "metadata": {
  "language_info": {
   "codemirror_mode": {
    "name": "ipython",
    "version": 3
   },
   "file_extension": ".py",
   "mimetype": "text/x-python",
   "name": "python",
   "nbconvert_exporter": "python",
   "pygments_lexer": "ipython3",
   "version": "3.7.6-final"
  },
  "orig_nbformat": 2,
  "kernelspec": {
   "name": "Python 3.7.6 64-bit ('base': conda)",
   "display_name": "Python 3.7.6 64-bit ('base': conda)",
   "metadata": {
    "interpreter": {
     "hash": "97ae724bfa85b9b34df7982b8bb8c7216f435b92902d749e4263f71162bea840"
    }
   }
  }
 },
 "nbformat": 4,
 "nbformat_minor": 2,
 "cells": [
  {
   "cell_type": "code",
   "execution_count": 2,
   "metadata": {},
   "outputs": [],
   "source": [
    "### Investing and Rebalincing a Portfolio\n",
    "\n",
    "# 1) Instantiate\n",
    "# Build a portfolio with the following target allocations:\n",
    "# - Amazon(AMZN) = 40%\n",
    "# - Cisco(CSCO) = 30%\n",
    "# - General Electric(GE) = 30%\n",
    "\n",
    "targets = {\n",
    "    'AMZN': 0.40, # Amazon\n",
    "    'CSCO': 0.30, # Cisco\n",
    "    'GE': 0.30 # General Electric\n",
    "}"
   ]
  },
  {
   "cell_type": "code",
   "execution_count": 3,
   "metadata": {
    "tags": []
   },
   "outputs": [
    {
     "output_type": "stream",
     "name": "stdout",
     "text": "            date  price  target  allocation  shares  market_value\nAMZN  2020-09-25    NaN     0.4           0       0             0\nCSCO  2020-09-25    NaN     0.3           0       0             0\nGE    2020-09-25    NaN     0.3           0       0             0\nCASH  2020-09-25    1.0     0.0           1   10000         10000\n"
    }
   ],
   "source": [
    "import pandas as pd\n",
    "import numpy as np\n",
    "\n",
    "# Manually created data frame\n",
    "portfolio = pd.DataFrame(\n",
    "    index=list(targets.keys()) + ['CASH'],\n",
    "    data={\n",
    "        'date': '2020-09-25',\n",
    "        'price': [np.NaN, np.NaN, np.NaN, 1],\n",
    "        'target': [0.4, 0.3, 0.3, 0],\n",
    "        'allocation': [0, 0, 0, 1],\n",
    "        'shares': [0, 0, 0, 10000],\n",
    "        'market_value': [0, 0, 0, 10000]\n",
    "    }\n",
    ")\n",
    "print(portfolio)"
   ]
  },
  {
   "cell_type": "code",
   "execution_count": 4,
   "metadata": {
    "tags": []
   },
   "outputs": [
    {
     "output_type": "stream",
     "name": "stdout",
     "text": "     date price target  allocation  shares  market_value\nAMZN  NaN   NaN    0.4           0       0             0\nCSCO  NaN   NaN    0.3           0       0             0\nGE    NaN   NaN    0.3           0       0             0\nCASH  NaN   NaN      0           0   10000             0\n"
    }
   ],
   "source": [
    "# Portfolio Instantiation Function\n",
    "def instantiate_portfolio(targets, starting_balance):\n",
    "\n",
    "    # Initialize CASH to zero.  This is not a security and does not \n",
    "    # need to be rebalanced.  It is just an overflow buffer\n",
    "    targets['CASH'] = 0\n",
    "    # Convert input dict into a list\n",
    "    tickers = list(targets.keys())\n",
    "\n",
    "    df = pd.DataFrame(\n",
    "        index=tickers,\n",
    "        columns=[\n",
    "            'date','price','target',\n",
    "            'allocation','shares','market_value'\n",
    "        ]\n",
    "    )\n",
    "    df.shares = 0\n",
    "    df.market_value = 0\n",
    "    df.allocation = 0\n",
    "    df.update(\n",
    "        pd.DataFrame\n",
    "            .from_dict(targets, orient=\"index\")\n",
    "            .rename(columns={0: 'target'})\n",
    "    )\n",
    "    df.at['CASH','shares'] = starting_balance\n",
    "\n",
    "    return df\n",
    "\n",
    "# Function Test\n",
    "targets = {\n",
    "    'AMZN': 0.40, # Amazon\n",
    "    'CSCO': 0.30, # Cisco\n",
    "    'GE': 0.30 # General Electric\n",
    "}\n",
    "\n",
    "portfolio = instantiate_portfolio(targets, 10000)\n",
    "print(portfolio)"
   ]
  },
  {
   "cell_type": "code",
   "execution_count": 5,
   "metadata": {
    "tags": []
   },
   "outputs": [
    {
     "output_type": "stream",
     "name": "stdout",
     "text": "AMZN    945.21\nCSCO     30.52\nGE       29.27\nName: 2018-01-01, dtype: float64\n"
    }
   ],
   "source": [
    "# Function to update ticker prices\n",
    "def update_prices(portfolio, prices):\n",
    "    prices['CASH'] = 1\n",
    "    portfolio.update(pd.DataFrame({'price': prices}))\n",
    "    portfolio.date = prices.name\n",
    "    portfolio.market_value = portfolio.shares * portfolio.price\n",
    "\n",
    "# fake for right now\n",
    "prices = pd.Series(\n",
    "    name='2018-01-01',\n",
    "    data={'AMZN': 945.21, 'CSCO': 30.52, 'GE': 29.27}\n",
    ")\n",
    "\n",
    "print(prices)\n",
    "update_prices(portfolio, prices)"
   ]
  },
  {
   "cell_type": "code",
   "execution_count": 6,
   "metadata": {
    "tags": []
   },
   "outputs": [
    {
     "output_type": "stream",
     "name": "stdout",
     "text": "            date   price target  allocation  shares market_value\nAMZN  2018-01-01  945.21    0.4           0       0            0\nCSCO  2018-01-01   30.52    0.3           0       0            0\nGE    2018-01-01   29.27    0.3           0       0            0\nCASH  2018-01-01       1      0           0   10000        10000\n"
    }
   ],
   "source": [
    "print(portfolio)"
   ]
  },
  {
   "cell_type": "code",
   "execution_count": 7,
   "metadata": {
    "tags": []
   },
   "outputs": [
    {
     "output_type": "stream",
     "name": "stdout",
     "text": "AMZN      4\nCSCO     98\nGE      102\ndtype: object\n"
    }
   ],
   "source": [
    "# Orders will calculate the buy and sell orders to achieve target balances\n",
    "# Does not edit the original portfolio.\n",
    "def get_order(portfolio):\n",
    "    total_value = portfolio.market_value.sum()\n",
    "\n",
    "    order = (\n",
    "        (total_value * portfolio.target // portfolio.price)  #// is a floor divisor to return quotiant\n",
    "        - portfolio.shares\n",
    "    ).drop('CASH')\n",
    "\n",
    "    return order\n",
    "\n",
    "# Use function to get buy amounts\n",
    "order = get_order(portfolio)\n",
    "print(order)"
   ]
  },
  {
   "cell_type": "code",
   "execution_count": 8,
   "metadata": {
    "tags": []
   },
   "outputs": [
    {
     "output_type": "stream",
     "name": "stdout",
     "text": "AMZN      4\nCSCO    108\nGE      112\ndtype: object\n"
    }
   ],
   "source": [
    "# Deposit\n",
    "\n",
    "def deposit(portfolio, amount):\n",
    "    portfolio.at['CASH', 'shares'] += amount\n",
    "    portfolio.at['CASH', 'market_value'] = portfolio.at['CASH','shares']\n",
    "\n",
    "deposit(portfolio, 1000)\n",
    "\n",
    "order = get_order(portfolio)\n",
    "print(order)"
   ]
  },
  {
   "cell_type": "code",
   "execution_count": 9,
   "metadata": {
    "tags": []
   },
   "outputs": [
    {
     "output_type": "stream",
     "name": "stdout",
     "text": "            date   price target allocation  shares market_value\nAMZN  2018-01-01  945.21    0.4   0.343713       4      3780.84\nCSCO  2018-01-01   30.52    0.3   0.299651     108      3296.16\nGE    2018-01-01   29.27    0.3   0.298022     112      3278.24\nCASH  2018-01-01       1      0  0.0586145  644.76       644.76\n"
    }
   ],
   "source": [
    "# Simulate the execution of by/sell orders.\n",
    "\n",
    "def simulate_process_order(portfolio,order):\n",
    "    starting_cash = portfolio.at['CASH','shares']\n",
    "    cash_adjustment = np.sum(order *portfolio.price)\n",
    "    portfolio.shares += order\n",
    "    portfolio.market_value = portfolio.shares * portfolio.price\n",
    "    portfolio.at['CASH','shares'] = starting_cash - cash_adjustment\n",
    "    portfolio.market_value = portfolio.shares * portfolio.price\n",
    "    portfolio.allocation = (\n",
    "        portfolio.market_value / portfolio.market_value.sum()\n",
    "    )\n",
    "\n",
    "simulate_process_order(portfolio, order)\n",
    "print(portfolio)"
   ]
  },
  {
   "cell_type": "code",
   "execution_count": 10,
   "metadata": {
    "tags": []
   },
   "outputs": [
    {
     "output_type": "stream",
     "name": "stdout",
     "text": "               AMZN\n2020-09-28  3174.05\n2020-09-25  3095.13\n2020-09-24  3019.79\n2020-09-23  2999.86\n2020-09-22  3128.99\n2020-09-21  2960.47\n2020-09-18  2954.91\n2020-09-17  3008.73\n2020-09-16  3078.10\n2020-09-15  3156.13\n"
    }
   ],
   "source": [
    "import requests\n",
    "from dotenv import load_dotenv, find_dotenv\n",
    "load_dotenv(find_dotenv())\n",
    "\n",
    "API_KEY = os.environ.get('OPX_KEY')\n",
    "TODAY = pd.Timestamp.today().normalize()\n",
    "\n",
    "# GET_PRICE function\n",
    "def get_price(ticker, outputsize=\"compact\", most_recent=False):\n",
    "    URL = 'https://www.alphavantage.co/query?'\n",
    "    payload = {\n",
    "        'function': 'TIME_SERIES_DAILY_ADJUSTED',\n",
    "        'symbol': ticker,\n",
    "        'apikey': API_KEY,\n",
    "        'outputsize': outputsize\n",
    "    }\n",
    "    r = requests.get(URL, params=payload)\n",
    "    p = pd.DataFrame(r.json()['Time Series (Daily)']).T['4. close']\n",
    "    df = pd.DataFrame({ticker: p.apply(float)})\n",
    "    df.index = pd.to_datetime(df.index)\n",
    "    if most_recent:\n",
    "        return df.tail(1)\n",
    "    return df\n",
    "\n",
    "print(get_price('AMZN')[:10])"
   ]
  },
  {
   "cell_type": "code",
   "execution_count": 20,
   "metadata": {
    "tags": []
   },
   "outputs": [
    {
     "output_type": "stream",
     "name": "stdout",
     "text": "dict_keys(['Meta Data', 'Time Series (Daily)'])\n"
    }
   ],
   "source": [
    "# Disecting the function above.\n",
    "URL = 'https://www.alphavantage.co/query?'\n",
    "payload = {\n",
    "    'function': 'TIME_SERIES_DAILY_ADJUSTED',\n",
    "    'symbol': 'AMZN',\n",
    "    'apikey': API_KEY,\n",
    "    'outputsize': 'compact'\n",
    "}\n",
    "r = requests.get(URL, params=payload)\n",
    "print(r.json().keys())"
   ]
  },
  {
   "cell_type": "code",
   "execution_count": 15,
   "metadata": {
    "tags": []
   },
   "outputs": [
    {
     "output_type": "stream",
     "name": "stdout",
     "text": "               AMZN   CSCO    GE\n2020-09-24  3019.79  37.85  6.06\n2020-09-25  3095.13  38.45  6.11\n2020-09-26  3095.13  38.45  6.11\n2020-09-27  3095.13  38.45  6.11\n2020-09-28  3174.05  39.13  6.20\n"
    }
   ],
   "source": [
    "# This get_historical function will loop through each ticker and bind the \n",
    "# cleaned-up response to a main DataFrame object. The function will enable \n",
    "# us to fetch data and close prices for any number of listed companies \n",
    "# across any arbitrary length of time.\n",
    "import datetime\n",
    "\n",
    "def get_historical(tickers, start_date, end_date):\n",
    "    df = pd.DataFrame(index=pd.date_range(start_date, end_date, freq=\"D\"))\n",
    "    for t in tickers:\n",
    "        df = pd.concat([\n",
    "            df,\n",
    "            get_price(t, outputsize=\"full\")],\n",
    "            axis=1,\n",
    "            join='outer'\n",
    "        )\n",
    "    df = df.fillna(method='ffill').dropna()\n",
    "    return df\n",
    "\n",
    "historical_prices = get_historical(\n",
    "    tickers=['AMZN', 'CSCO', 'GE'],\n",
    "    start_date=pd.Timestamp(2016, 1, 1),\n",
    "    end_date=TODAY\n",
    ")\n",
    "print(historical_prices.tail())"
   ]
  },
  {
   "cell_type": "code",
   "execution_count": 16,
   "metadata": {
    "tags": []
   },
   "outputs": [
    {
     "output_type": "stream",
     "name": "stdout",
     "text": "AMZN    636.99\nCSCO     26.41\nGE       30.71\nName: 2016-01-04 00:00:00, dtype: float64\n"
    }
   ],
   "source": [
    "prices = historical_prices.loc['2016-01-04']\n",
    "print(prices)"
   ]
  },
  {
   "cell_type": "code",
   "execution_count": 20,
   "metadata": {
    "tags": []
   },
   "outputs": [
    {
     "output_type": "stream",
     "name": "stdout",
     "text": "Starting Portfolio\n\n            date   price target allocation  shares market_value\nAMZN 2017-01-01  749.87    0.4   0.397431      53      39743.1\nCSCO 2017-01-01   30.22    0.3   0.299782     992      29978.2\nGE   2017-01-01    31.6    0.3   0.299884     949      29988.4\nCASH 2017-01-01       1      0  0.0029025  290.25       290.25\n"
    }
   ],
   "source": [
    "# Put the Portfolio into Action\n",
    "portfolio = instantiate_portfolio(targets, 100000.00)\n",
    "prices = historical_prices.loc['2017-01-01']\n",
    "update_prices(portfolio, prices)\n",
    "order = get_order(portfolio)\n",
    "simulate_process_order(portfolio, order)\n",
    "portfolio.market_value.sum()\n",
    "\n",
    "print('Starting Portfolio\\n\\n',portfolio)\n"
   ]
  },
  {
   "cell_type": "code",
   "execution_count": 21,
   "metadata": {
    "tags": []
   },
   "outputs": [
    {
     "output_type": "stream",
     "name": "stdout",
     "text": "2017-03-31 00:00:00:\nAMZN     -4\nCSCO    -24\nGE      149\ndtype: object\n2017-06-30 00:00:00:\nAMZN    -5\nCSCO    63\nGE      97\ndtype: object\n2017-09-30 00:00:00:\nAMZN      0\nCSCO    -83\nGE      124\ndtype: object\n2017-12-31 00:00:00:\nAMZN     -7\nCSCO    -79\nGE      589\ndtype: object\n"
    },
    {
     "output_type": "execute_result",
     "data": {
      "text/plain": "111030.14"
     },
     "metadata": {},
     "execution_count": 21
    }
   ],
   "source": [
    "# Test the Rebalance function across 2017 and execute orders on\n",
    "# a quarterly-end frequency by using the Q offset alias from pandas\n",
    "\n",
    "dates = pd.date_range('2017-01-01', '2017-12-31', freq=\"Q\").tolist()\n",
    "for d in dates:\n",
    "    prices = historical_prices.loc[d]\n",
    "    update_prices(portfolio, prices)\n",
    "    order = get_order(portfolio)\n",
    "    print(f'{d}:\\n{order}')\n",
    "    simulate_process_order(portfolio, order)\n",
    "\n",
    "portfolio.market_value.sum()"
   ]
  },
  {
   "cell_type": "code",
   "execution_count": 22,
   "metadata": {
    "tags": []
   },
   "outputs": [
    {
     "output_type": "stream",
     "name": "stdout",
     "text": "           date    price target allocation   shares market_value\nAMZN 2017-12-31  1169.47    0.4   0.389718       37      43270.4\nCSCO 2017-12-31     38.3    0.3   0.299763      869      33282.7\nGE   2017-12-31    17.45    0.3    0.29987     1908      33294.6\nCASH 2017-12-31        1      0  0.0106498  1182.45      1182.45\n"
    }
   ],
   "source": [
    "print(portfolio)"
   ]
  },
  {
   "cell_type": "code",
   "execution_count": null,
   "metadata": {},
   "outputs": [],
   "source": []
  }
 ]
}